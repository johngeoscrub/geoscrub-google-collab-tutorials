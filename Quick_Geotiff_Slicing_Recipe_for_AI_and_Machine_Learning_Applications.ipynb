{
  "nbformat": 4,
  "nbformat_minor": 0,
  "metadata": {
    "colab": {
      "provenance": [],
      "authorship_tag": "ABX9TyMCfV8uHTYXai9OkSjb71ts",
      "include_colab_link": true
    },
    "kernelspec": {
      "name": "python3",
      "display_name": "Python 3"
    },
    "language_info": {
      "name": "python"
    }
  },
  "cells": [
    {
      "cell_type": "markdown",
      "metadata": {
        "id": "view-in-github",
        "colab_type": "text"
      },
      "source": [
        "<a href=\"https://colab.research.google.com/github/johngeoscrub/geoscrub-google-collab-tutorials/blob/main/Quick_Geotiff_Slicing_Recipe_for_AI_and_Machine_Learning_Applications.ipynb\" target=\"_parent\"><img src=\"https://colab.research.google.com/assets/colab-badge.svg\" alt=\"Open In Colab\"/></a>"
      ]
    },
    {
      "cell_type": "markdown",
      "source": [
        "# Quick GeoTIFF Slicing Recipe for Computer Vision\n",
        "\n",
        "This notebook accompanies the article \"Quick GeoTIFF Slicing Recipe for Computer Vision\", providing practical guidance on preparing GeoTIFF images for computer vision applications. We'll cover how to slice large GeoTIFF files into 256x256 pixel tiles and address issues with residual pieces through padding.\n",
        "\n",
        "## Introduction\n",
        "\n",
        "In this notebook, we demonstrate techniques for efficiently processing GeoTIFF files, making them suitable for computer vision models. These methods are crucial for handling large and complex geospatial imagery by breaking them down into manageable pieces.\n",
        "\n",
        "## Setup\n",
        "\n",
        "First, ensure GDAL is installed in your Colab environment. Run the following command:\n",
        "\n",
        "```bash\n",
        "!pip install gdal\n"
      ],
      "metadata": {
        "id": "wPfkzb6IfnMY"
      }
    },
    {
      "cell_type": "markdown",
      "source": [
        "#### Loading GeoTIFF Data\n",
        "Let's start by loading a GeoTIFF file using GDAL. This step is foundational for understanding how to work with and manipulate geospatial imagery."
      ],
      "metadata": {
        "id": "LSzC2Mf7fuJ3"
      }
    },
    {
      "cell_type": "code",
      "execution_count": null,
      "metadata": {
        "id": "g-NMcLwTfBOi"
      },
      "outputs": [],
      "source": [
        "from osgeo import gdal\n",
        "import os\n",
        "\n",
        "# Constants\n",
        "INPUT_PATH = \"***Path to Geotiff***\"  # Ensure this path points to your GeoTIFF file\n",
        "OUTPUT_DIR = \"***Path to Output Directory***\"  # Specify the directory where tiles will be saved\n",
        "TILE_SIZE = 640 # Define the tile size in pixels\n",
        "\n",
        "# Load our Dataset\n",
        "dataset = gdal.Open(INPUT_PATH)\n",
        "if dataset is None:\n",
        "    raise IOError(\"Could not open the GeoTIFF file.\")"
      ]
    },
    {
      "cell_type": "markdown",
      "source": [
        "#### Slicing GeoTIFF into Manageable Tiles\n",
        "Next, we'll slice the GeoTIFF into 640x640 pixel tiles, ensuring they are suitable for computer vision tasks. The following function facilitates this process:"
      ],
      "metadata": {
        "id": "0b0Upei9f2nf"
      }
    },
    {
      "cell_type": "code",
      "source": [
        "# Extract file name\n",
        "image_file_name = os.path.splitext(os.path.basename(INPUT_PATH))[0]\n",
        "\n",
        "# Get the size of the GeoTIFF\n",
        "width, height = dataset.RasterXSize, dataset.RasterYSize\n",
        "\n",
        "# Create output directory if it doesn't exist\n",
        "os.makedirs(OUTPUT_DIR, exist_ok=True)\n",
        "\n",
        "# Iterate through and slice our dataset vertically and horizontally by TILE_SIZE\n",
        "for xoff in range(0, width, TILE_SIZE):\n",
        "    for yoff in range(0, height, TILE_SIZE):\n",
        "        # Calculate the size of the current tile\n",
        "        xsize, ysize = min(TILE_SIZE, width - xoff), min(TILE_SIZE, height - yoff)\n",
        "\n",
        "        # Generate output file name\n",
        "        output_filename = os.path.join(\n",
        "            OUTPUT_DIR,\n",
        "            f\"{image_file_name}_{xoff}_{yoff}_{xsize}x{ysize}.tif\"\n",
        "        )\n",
        "\n",
        "        # Use gdal_translate to extract the tile\n",
        "        gdal.Translate(output_filename, dataset, srcWin=[xoff, yoff, xsize, ysize])"
      ],
      "metadata": {
        "id": "_TBF6wN2f0Jb"
      },
      "execution_count": null,
      "outputs": []
    },
    {
      "cell_type": "markdown",
      "source": [
        "#### Handling Residual Tiles with Padding\n",
        "Since our GeoTIFF might not divide evenly into 640x640 tiles, we'll use the following function to pad any residual tiles. This ensures all tiles are of uniform size without distorting the original data."
      ],
      "metadata": {
        "id": "p3LO-1C0f-lb"
      }
    },
    {
      "cell_type": "code",
      "source": [
        "def enforce_image_dimensions_black_fill(input_slice_tif: str, enforced_dimension: int) -> None:\n",
        "    \"\"\"\n",
        "    Resize a GeoTIFF image to a specified dimension, filling any extra space with black pixels.\n",
        "    The original image is centered in the new dimensions, and its georeferencing is preserved.\n",
        "\n",
        "    Args:\n",
        "    input_slice_tif (str): The file path of the original GeoTIFF image.\n",
        "    enforced_dimension (int): The minimum width and height for the new image dimensions.\n",
        "    \"\"\"\n",
        "    src_ds = gdal.Open(input_slice_tif)\n",
        "\n",
        "    # Get original dimensions\n",
        "    orig_width = src_ds.RasterXSize\n",
        "    orig_height = src_ds.RasterYSize\n",
        "\n",
        "    if orig_height != enforced_dimension or orig_width != enforced_dimension:\n",
        "\n",
        "      # Get original georeferencing and projection\n",
        "      geotransform = src_ds.GetGeoTransform()\n",
        "      projection = src_ds.GetProjection()\n",
        "\n",
        "      # Calculate new dimensions and offsets to center the original image\n",
        "      new_width = max(orig_width, enforced_dimension)\n",
        "      new_height = max(orig_height, enforced_dimension)\n",
        "      x_offset = (new_width - orig_width) // 2\n",
        "      y_offset = (new_height - orig_height) // 2\n",
        "\n",
        "      # Create new GeoTIFF\n",
        "      driver = gdal.GetDriverByName('GTiff')\n",
        "      output_file_path = input_slice_tif\n",
        "      os.remove(input_slice_tif)\n",
        "      dst_ds = driver.Create(output_file_path, new_width, new_height, src_ds.RasterCount, src_ds.GetRasterBand(1).DataType)\n",
        "\n",
        "      # Fill new GeoTIFF with black\n",
        "      for i in range(dst_ds.RasterCount):\n",
        "          dst_ds.GetRasterBand(i + 1).Fill(0)  # Fill with black\n",
        "\n",
        "      # Copy original data into new GeoTIFF at calculated position\n",
        "      dst_ds.WriteRaster(x_offset, y_offset, orig_width, orig_height, src_ds.ReadRaster())\n",
        "\n",
        "      # Update the geotransform to reflect the new positioning\n",
        "      new_geotransform = list(geotransform)\n",
        "      new_geotransform[0] -= geotransform[1] * x_offset  # Adjusting X-origin\n",
        "      new_geotransform[3] -= geotransform[5] * y_offset  # Adjusting Y-origin\n",
        "\n",
        "      # Set the updated georeferencing and projection\n",
        "      dst_ds.SetGeoTransform(new_geotransform)\n",
        "      dst_ds.SetProjection(projection)\n",
        "\n",
        "      # Close datasets\n",
        "      src_ds = None\n",
        "      dst_ds = None"
      ],
      "metadata": {
        "id": "ggm8zBwJgDiB"
      },
      "execution_count": null,
      "outputs": []
    },
    {
      "cell_type": "markdown",
      "source": [
        "#### Example Usage\n",
        "To see our functions in action, let's apply them to a sample GeoTIFF file:"
      ],
      "metadata": {
        "id": "j4U7e8HXgShg"
      }
    },
    {
      "cell_type": "code",
      "source": [
        "# Iterate all GeoTiffs in our OUTPUT_DIR\n",
        "for filename in os.listdir(OUTPUT_DIR):\n",
        "  if filename.endswith(\".tif\"):\n",
        "    enforce_image_dimensions_black_fill(os.path.join(OUTPUT_DIR, filename), TILE_SIZE)"
      ],
      "metadata": {
        "id": "QfjtupwFgS3g"
      },
      "execution_count": null,
      "outputs": []
    }
  ]
}